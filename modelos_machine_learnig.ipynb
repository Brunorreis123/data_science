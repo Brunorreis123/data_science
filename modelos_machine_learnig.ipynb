{
  "nbformat": 4,
  "nbformat_minor": 0,
  "metadata": {
    "colab": {
      "provenance": [],
      "authorship_tag": "ABX9TyM+DsMqCj7OifGNvT9mLEIN",
      "include_colab_link": true
    },
    "kernelspec": {
      "name": "python3",
      "display_name": "Python 3"
    },
    "language_info": {
      "name": "python"
    }
  },
  "cells": [
    {
      "cell_type": "markdown",
      "metadata": {
        "id": "view-in-github",
        "colab_type": "text"
      },
      "source": [
        "<a href=\"https://colab.research.google.com/github/Brunorreis123/python/blob/main/modelos_machine_learnig.ipynb\" target=\"_parent\"><img src=\"https://colab.research.google.com/assets/colab-badge.svg\" alt=\"Open In Colab\"/></a>"
      ]
    },
    {
      "cell_type": "markdown",
      "source": [
        "`REGRESSÃO LINEAR`"
      ],
      "metadata": {
        "id": "4866QgcVpVgY"
      }
    },
    {
      "cell_type": "code",
      "execution_count": null,
      "metadata": {
        "id": "5yGN_rIEeJnz"
      },
      "outputs": [],
      "source": [
        "# Importando as bibliotecas\n",
        "import pandas as pd\n",
        "from sklearn.linear_model import LinearRegression"
      ]
    },
    {
      "cell_type": "code",
      "source": [
        "# Carregando os dados em um arquivo CSV\n",
        "df = pd.read_csv('dados_do_rolo.csv')"
      ],
      "metadata": {
        "id": "2LPclyOJpi87"
      },
      "execution_count": null,
      "outputs": []
    },
    {
      "cell_type": "code",
      "source": [
        "# Dividindo os dados em variáveis dependentes e independentes\n",
        "X = df[['vibracao', 'rpm', 'desgaste']].values\n",
        "y = df['vida_util'].values"
      ],
      "metadata": {
        "id": "K-izslbopvnx"
      },
      "execution_count": null,
      "outputs": []
    },
    {
      "cell_type": "code",
      "source": [
        "# Criando um modelo de regressão linear usando as variáveis dependentes e independentes\n",
        "modelo = LinearRegression()\n",
        "modelo.fit(X, y)"
      ],
      "metadata": {
        "id": "6yQ9b9Ilp42O"
      },
      "execution_count": null,
      "outputs": []
    },
    {
      "cell_type": "code",
      "source": [
        "# Use o modelo para prever a vida útil do rolo com novos dados de entrada\n",
        "novo_dado = [[0.2, 500, 0.05]]\n",
        "vida_util_prevista = modelo.predict(novo_dado)"
      ],
      "metadata": {
        "id": "uAkbWSxQp8S-"
      },
      "execution_count": null,
      "outputs": []
    },
    {
      "cell_type": "code",
      "source": [
        "# Printando o básico sobre a vida útil do rolo\n",
        "print(\"A vida útil do rolo é de aproximadamente\", vida_util_prevista[0], \"horas.\")"
      ],
      "metadata": {
        "id": "NZxgwWTGp_2v"
      },
      "execution_count": null,
      "outputs": []
    },
    {
      "cell_type": "markdown",
      "source": [
        "**`Arvores de decisão`**"
      ],
      "metadata": {
        "id": "KJoELcvnqMpJ"
      }
    },
    {
      "cell_type": "markdown",
      "source": [],
      "metadata": {
        "id": "XCx-K_BssCSe"
      }
    },
    {
      "cell_type": "code",
      "source": [
        "# Importando bibliotecas\n",
        "import pandas as pd\n",
        "from sklearn.tree import DecisionTreeRegressor"
      ],
      "metadata": {
        "id": "KkwLqUN8qSXP"
      },
      "execution_count": null,
      "outputs": []
    },
    {
      "cell_type": "code",
      "source": [
        "# Carregando os dados de vibração, RPM, desgaste e vida útil em um DataFrame do Pandas\n",
        "df = pd.read_csv('dados_do_rolo.csv')"
      ],
      "metadata": {
        "id": "e0GyztUtqokn"
      },
      "execution_count": null,
      "outputs": []
    },
    {
      "cell_type": "code",
      "source": [
        "# Dividindo os dados em variáveis dependentes e independentes\n",
        "X = df[['vibracao', 'rpm', 'desgaste']].values\n",
        "y = df['vida_util'].values"
      ],
      "metadata": {
        "id": "ZNzaS38ZrJSv"
      },
      "execution_count": null,
      "outputs": []
    },
    {
      "cell_type": "code",
      "source": [
        "# Criando um modelo de árvore de decisão usando as variáveis dependentes e independentes\n",
        "modelo = DecisionTreeRegressor(random_state=0)\n",
        "modelo.fit(X, y)"
      ],
      "metadata": {
        "id": "pLgZGaNyrM2A"
      },
      "execution_count": null,
      "outputs": []
    },
    {
      "cell_type": "code",
      "source": [
        "# Usando o modelo para prever a vida útil do rolo com novos dados de entrada\n",
        "novo_dado = [[0.2, 500, 0.05]]\n",
        "vida_util_prevista = modelo.predict(novo_dado)"
      ],
      "metadata": {
        "id": "US-5rMMuruxe"
      },
      "execution_count": null,
      "outputs": []
    },
    {
      "cell_type": "code",
      "source": [
        "# Printando o resultando (básico)\n",
        "print(\"A vida útil do rolo é de aproximadamente\", vida_util_prevista[0], \"horas.\")\n"
      ],
      "metadata": {
        "id": "EWRVmPUlrxgI"
      },
      "execution_count": null,
      "outputs": []
    },
    {
      "cell_type": "markdown",
      "source": [
        "**`REDES NEURAIS ARTIFICAIS`**"
      ],
      "metadata": {
        "id": "tusHu1CxsC0o"
      }
    },
    {
      "cell_type": "code",
      "source": [
        "# Importando bibliotecas\n",
        "import pandas as pd\n",
        "import numpy as np\n",
        "from sklearn.neural_network import MLPRegressor"
      ],
      "metadata": {
        "id": "wgIg_GTVsLrf"
      },
      "execution_count": null,
      "outputs": []
    },
    {
      "cell_type": "code",
      "source": [
        "# Carregando os dados de vibração, RPM, desgaste e vida útil em um DataFrame do Pandas\n",
        "df = pd.read_csv('dados_do_rolo.csv')"
      ],
      "metadata": {
        "id": "aSDAWPYXsPqH"
      },
      "execution_count": null,
      "outputs": []
    },
    {
      "cell_type": "code",
      "source": [
        "# Dividindo os dados em variáveis dependentes e independentes\n",
        "X = df[['vibracao', 'rpm', 'desgaste']].values\n",
        "y = df['vida_util'].values"
      ],
      "metadata": {
        "id": "oV2q41UDsSAW"
      },
      "execution_count": null,
      "outputs": []
    },
    {
      "cell_type": "code",
      "source": [
        "# Normalizando as variáveis independentes para melhorar o desempenho do modelo\n",
        "X_norm = (X - X.mean()) / X.std()"
      ],
      "metadata": {
        "id": "k5X_y5FmsT82"
      },
      "execution_count": null,
      "outputs": []
    },
    {
      "cell_type": "code",
      "source": [
        "# Criando um modelo de rede neural usando as variáveis dependentes e independentes\n",
        "modelo = MLPRegressor(hidden_layer_sizes=(100,), activation='relu', solver='adam', max_iter=500)\n",
        "modelo.fit(X_norm, y)"
      ],
      "metadata": {
        "id": "Rid3E0zmsWJe"
      },
      "execution_count": null,
      "outputs": []
    },
    {
      "cell_type": "code",
      "source": [
        "# Usando o modelo para prever a vida útil do rolo com novos dados de entrada\n",
        "novo_dado = np.array([[0.2, 500, 0.05]])\n",
        "novo_dado_norm = (novo_dado - X.mean()) / X.std()\n",
        "vida_util_prevista = modelo.predict(novo_dado_norm)"
      ],
      "metadata": {
        "id": "2UZIcE57sYum"
      },
      "execution_count": null,
      "outputs": []
    },
    {
      "cell_type": "code",
      "source": [
        "# Printando o resultado (básico)\n",
        "print(\"A vida útil do rolo é de aproximadamente\", vida_util_prevista[0], \"horas.\")\n"
      ],
      "metadata": {
        "id": "hxorcOHmsdxb"
      },
      "execution_count": null,
      "outputs": []
    }
  ]
}