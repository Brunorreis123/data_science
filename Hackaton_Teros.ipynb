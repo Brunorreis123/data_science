{
  "cells": [
    {
      "cell_type": "markdown",
      "metadata": {
        "id": "view-in-github",
        "colab_type": "text"
      },
      "source": [
        "<a href=\"https://colab.research.google.com/github/Brunorreis123/python/blob/main/Hackaton_Teros.ipynb\" target=\"_parent\"><img src=\"https://colab.research.google.com/assets/colab-badge.svg\" alt=\"Open In Colab\"/></a>"
      ]
    },
    {
      "cell_type": "markdown",
      "id": "7ae24d22",
      "metadata": {
        "id": "7ae24d22"
      },
      "source": [
        "# Modelo Teros"
      ]
    },
    {
      "cell_type": "markdown",
      "id": "e0fcfd0f",
      "metadata": {
        "id": "e0fcfd0f"
      },
      "source": [
        "## Bibliotecas"
      ]
    },
    {
      "cell_type": "code",
      "execution_count": null,
      "id": "96eded5e",
      "metadata": {
        "id": "96eded5e"
      },
      "outputs": [],
      "source": [
        "#Processamento de dados\n",
        "import pandas as pd\n",
        "import numpy as np\n",
        "from sklearn.preprocessing import MinMaxScaler\n",
        "from sklearn.feature_selection import RFECV\n",
        "from sklearn.model_selection import StratifiedKFold\n",
        "from sklearn.model_selection import train_test_split\n",
        "\n",
        "#Modelos\n",
        "from sklearn.dummy import DummyClassifier\n",
        "from sklearn.linear_model import LogisticRegression\n",
        "\n",
        "#Acurácia\n",
        "from sklearn.model_selection import cross_validate\n",
        "from sklearn.metrics import confusion_matrix\n",
        "\n",
        "#Gráficas\n",
        "import seaborn as sns\n",
        "import matplotlib.pyplot as plt"
      ]
    },
    {
      "cell_type": "markdown",
      "id": "dac9d10c",
      "metadata": {
        "id": "dac9d10c"
      },
      "source": [
        "## Configurações Primárias"
      ]
    },
    {
      "cell_type": "code",
      "execution_count": null,
      "id": "d183940c",
      "metadata": {
        "id": "d183940c"
      },
      "outputs": [],
      "source": [
        "pd.set_option('display.max_columns', 50)\n",
        "SEED = 0\n",
        "np.random.seed(SEED)"
      ]
    },
    {
      "cell_type": "markdown",
      "id": "9e37f1ae",
      "metadata": {
        "id": "9e37f1ae"
      },
      "source": [
        "## Funções de Processamento de dados"
      ]
    },
    {
      "cell_type": "code",
      "execution_count": null,
      "id": "fca7708f",
      "metadata": {
        "id": "fca7708f"
      },
      "outputs": [],
      "source": [
        "def abre_dados_modelo(path: str, coluna_y: str, colunas_utilizadas: list = None, **kwargs) -> tuple:\n",
        "    dados: pd.DataFrame = pd.read_csv(path, **kwargs)\n",
        "    if colunas_utilizadas is not None:\n",
        "        dados = dados[colunas_utilizadas]\n",
        "    y: pd.Series = dados[coluna_y]\n",
        "    x: pd.DataFrame = dados.drop(columns=coluna_y)\n",
        "    return x, y\n",
        "\n",
        "def obtem_dummies_coluna(coluna_desejada: str, dataframe: pd.DataFrame) -> pd.DataFrame:\n",
        "    dummies: pd.DataFrame = pd.get_dummies(dataframe[coluna_desejada]).copy()\n",
        "    dataframe = pd.concat([dataframe, dummies], axis=1)\n",
        "    dataframe = dataframe.drop(columns=coluna_desejada)\n",
        "    return dataframe\n",
        "\n",
        "def escala_dados(scaler, x: pd.DataFrame):\n",
        "    scaler.fit(x)\n",
        "    x_escalado = scaler.transform(x)\n",
        "    return x_escalado"
      ]
    },
    {
      "cell_type": "markdown",
      "id": "876511e1",
      "metadata": {
        "id": "876511e1"
      },
      "source": [
        "## Funções de Teste de Modelos"
      ]
    },
    {
      "cell_type": "code",
      "execution_count": null,
      "id": "3f6dd938",
      "metadata": {
        "id": "3f6dd938"
      },
      "outputs": [],
      "source": [
        "def roda_teste_hiperparametros(x, y, modelo, cv, scaler = None, groups = None, **kwargs):\n",
        "    SEED = 0\n",
        "    np.random.seed(SEED)\n",
        "    \n",
        "    modelo_com_hiperparametros = modelo(**kwargs)\n",
        "    if scaler is not None:\n",
        "        x = escala_dados(scaler=scaler, x=x)\n",
        "        \n",
        "    resultado_cross_validate = cross_validate(\n",
        "        modelo_com_hiperparametros, x, y, cv = cv, groups = groups, return_train_score = True\n",
        "    )\n",
        "    \n",
        "    resultado_medio_teste = resultado_cross_validate['test_score'].mean()\n",
        "    desvio_padrao_teste = resultado_cross_validate['test_score'].std()\n",
        "    \n",
        "    return resultado_medio_teste, desvio_padrao_teste"
      ]
    },
    {
      "cell_type": "markdown",
      "id": "e511384a",
      "metadata": {
        "id": "e511384a"
      },
      "source": [
        "## Arquivos "
      ]
    },
    {
      "cell_type": "code",
      "execution_count": null,
      "id": "dfce561f",
      "metadata": {
        "id": "dfce561f"
      },
      "outputs": [],
      "source": [
        "colunas_selecionadas = [\n",
        "    'Classificacao_da_Oportunidade', 'numero_relacionamentos_convertidos', 'Concorrentes', \n",
        "    'n_solucoes', 'Margem_Total', 'Custo_Total', 'Faixa_de_Faturamento_Agregado', 'id_fechou'\n",
        "]\n",
        "    \n",
        "x, y = abre_dados_modelo(\n",
        "    path='dados/dados_treino_hackaton.csv', \n",
        "    colunas_utilizadas=colunas_selecionadas, \n",
        "    coluna_y='id_fechou', encoding='latin1', sep=',', index_col=0\n",
        " )\n",
        "\n",
        "colunas_dummies = ['Classificacao_da_Oportunidade', 'Faixa_de_Faturamento_Agregado']\n",
        "for coluna in colunas_dummies:\n",
        "    x = obtem_dummies_coluna(coluna, x)"
      ]
    },
    {
      "cell_type": "markdown",
      "id": "858e1ec2",
      "metadata": {
        "id": "858e1ec2"
      },
      "source": [
        "### Resultado do DummyClassifier"
      ]
    },
    {
      "cell_type": "code",
      "execution_count": null,
      "id": "da0dd10c",
      "metadata": {
        "id": "da0dd10c",
        "outputId": "d8864ac7-e5b2-4f7d-8a05-c84727f50538"
      },
      "outputs": [
        {
          "name": "stdout",
          "output_type": "stream",
          "text": [
            "Resultado DummyClassifier: 0.53181\n",
            "Desvio Padrão DummyClassifier: 0.00679\n"
          ]
        }
      ],
      "source": [
        "resultados_dummy_classifier = roda_teste_hiperparametros(\n",
        "    x=x, y=y, scaler=MinMaxScaler(), modelo=DummyClassifier, \n",
        "    cv=StratifiedKFold(n_splits=10), \n",
        ")\n",
        "print(f'Resultado DummyClassifier: {round(resultados_dummy_classifier[0], 5)}')\n",
        "print(f'Desvio Padrão DummyClassifier: {round(resultados_dummy_classifier[1], 5)}')"
      ]
    },
    {
      "cell_type": "markdown",
      "id": "69c0c50d",
      "metadata": {
        "id": "69c0c50d"
      },
      "source": [
        "## Testes"
      ]
    },
    {
      "cell_type": "markdown",
      "id": "bfa47116",
      "metadata": {
        "id": "bfa47116"
      },
      "source": [
        "### Selecionando as melhores features e treinando o modelo"
      ]
    },
    {
      "cell_type": "code",
      "execution_count": null,
      "id": "d5981d1a",
      "metadata": {
        "id": "d5981d1a",
        "outputId": "755abe7c-3310-46e1-f51b-bb1a0c380a18"
      },
      "outputs": [
        {
          "name": "stdout",
          "output_type": "stream",
          "text": [
            "Resultado LogisticRegression: 71.739%\n"
          ]
        }
      ],
      "source": [
        "x_escalado = escala_dados(scaler=MinMaxScaler(), x=x)\n",
        "X_treino, X_teste, y_treino, y_teste = train_test_split(\n",
        "    x_escalado, y, test_size=0.3, stratify=y, random_state=0\n",
        ")\n",
        "\n",
        "modelo = LogisticRegression(random_state = 0)\n",
        "selecionador_RFECV = RFECV(modelo, cv = 7, scoring = 'accuracy')\n",
        "\n",
        "selecionador_RFECV.fit(X_treino, y_treino)\n",
        "\n",
        "treino_RFECV = selecionador_RFECV.transform(X_treino)\n",
        "teste_RFECV = selecionador_RFECV.transform(X_teste)\n",
        "\n",
        "\n",
        "modelo.fit(treino_RFECV, y_treino)\n",
        "y_pred = modelo.predict(teste_RFECV)\n",
        "print(f'Resultado LogisticRegression: {round(modelo.score(teste_RFECV, y_teste) * 100, 3)}%')\n",
        "probabilidades = modelo.predict_proba(teste_RFECV)"
      ]
    },
    {
      "cell_type": "markdown",
      "id": "f3d2d705",
      "metadata": {
        "id": "f3d2d705"
      },
      "source": [
        "### Matriz de Confusão"
      ]
    },
    {
      "cell_type": "code",
      "execution_count": null,
      "id": "239f6526",
      "metadata": {
        "id": "239f6526",
        "outputId": "a18638df-d794-4644-a172-0000e6be9c14"
      },
      "outputs": [
        {
          "data": {
            "image/png": "[encoded data removed]",
            "text/plain": [
              "<Figure size 1008x720 with 2 Axes>"
            ]
          },
          "metadata": {
            "needs_background": "light"
          },
          "output_type": "display_data"
        }
      ],
      "source": [
        "matriz_confusao = confusion_matrix(y_teste, y_pred)\n",
        "plt.figure(figsize = (14, 10))\n",
        "ax = sns.heatmap(matriz_confusao, annot = True, fmt = 'd')\n",
        "ax.set_xlabel('Predito', fontsize = 10)\n",
        "ax.set_ylabel('Real', fontsize = 10)\n",
        "ax = ax"
      ]
    },
    {
      "cell_type": "code",
      "execution_count": null,
      "id": "48f44ffa",
      "metadata": {
        "id": "48f44ffa"
      },
      "outputs": [],
      "source": []
    }
  ],
  "metadata": {
    "kernelspec": {
      "display_name": "Python 3 (ipykernel)",
      "language": "python",
      "name": "python3"
    },
    "language_info": {
      "codemirror_mode": {
        "name": "ipython",
        "version": 3
      },
      "file_extension": ".py",
      "mimetype": "text/x-python",
      "name": "python",
      "nbconvert_exporter": "python",
      "pygments_lexer": "ipython3",
      "version": "3.9.12"
    },
    "colab": {
      "provenance": [],
      "include_colab_link": true
    }
  },
  "nbformat": 4,
  "nbformat_minor": 5
}